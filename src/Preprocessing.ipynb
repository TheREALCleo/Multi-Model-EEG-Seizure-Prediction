{
 "cells": [
  {
   "cell_type": "code",
   "execution_count": null,
   "id": "ae52ed24-590b-4589-ba45-f9d71e5a17b9",
   "metadata": {},
   "outputs": [],
   "source": [
    "#To Be Added Later"
   ]
  }
 ],
 "metadata": {
  "kernelspec": {
   "display_name": "Python 3 (ipykernel)",
   "language": "python",
   "name": "python3"
  },
  "language_info": {
   "codemirror_mode": {
    "name": "ipython",
    "version": 3
   },
   "file_extension": ".py",
   "mimetype": "text/x-python",
   "name": "python",
   "nbconvert_exporter": "python",
   "pygments_lexer": "ipython3",
   "version": "3.12.3"
  }
 },
 "nbformat": 4,
 "nbformat_minor": 5
}
