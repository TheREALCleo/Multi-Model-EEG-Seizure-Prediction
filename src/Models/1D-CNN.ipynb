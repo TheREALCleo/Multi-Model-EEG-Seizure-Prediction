{
 "cells": [
  {
   "cell_type": "code",
   "execution_count": 1,
   "id": "c1562e42-e72c-41e2-b9f6-e1634cccec6b",
   "metadata": {},
   "outputs": [
    {
     "name": "stdout",
     "output_type": "stream",
     "text": [
      "Using device: cuda\n"
     ]
    }
   ],
   "source": [
    "import torch\n",
    "import torch.nn as nn\n",
    "import torch.optim as optim\n",
    "from torch.utils.data import DataLoader, TensorDataset, random_split\n",
    "from sklearn.metrics import (confusion_matrix, classification_report, \n",
    "                            roc_auc_score, roc_curve, precision_recall_curve,\n",
    "                            average_precision_score)\n",
    "from sklearn.preprocessing import StandardScaler\n",
    "from sklearn.model_selection import train_test_split\n",
    "import matplotlib.pyplot as plt\n",
    "import pandas as pd\n",
    "import numpy as np\n",
    "import seaborn as sns\n",
    "from tqdm import tqdm\n",
    "\n",
    "# Set random seeds and device\n",
    "torch.manual_seed(42)\n",
    "np.random.seed(42)\n",
    "device = torch.device('cuda' if torch.cuda.is_available() else 'cpu')\n",
    "print(f'Using device: {device}')"
   ]
  },
  {
   "cell_type": "code",
   "execution_count": 2,
   "id": "56f5b1b5-fbda-431b-baba-13233fa1f388",
   "metadata": {},
   "outputs": [
    {
     "name": "stdout",
     "output_type": "stream",
     "text": [
      "Train: (1342176, 23), Val: (335544, 23), Test: (419430, 23)\n"
     ]
    }
   ],
   "source": [
    "def load_data(file_path):\n",
    "    # Load and shuffle full dataset\n",
    "    full_data = pd.read_csv(file_path).sample(frac=1, random_state=42)\n",
    "    X = full_data.drop('Outcome', axis=1).values.astype(np.float32)\n",
    "    y = full_data['Outcome'].values.astype(np.int32)\n",
    "    \n",
    "    # Initial split: 80% train+val, 20% test\n",
    "    X_trainval, X_test, y_trainval, y_test = train_test_split(\n",
    "        X, y, test_size=0.2, stratify=y, random_state=42\n",
    "    )\n",
    "    \n",
    "    # Split trainval into train and validation\n",
    "    X_train, X_val, y_train, y_val = train_test_split(\n",
    "        X_trainval, y_trainval, test_size=0.2, stratify=y_trainval, random_state=42\n",
    "    )\n",
    "    \n",
    "    # Scale data properly\n",
    "    scaler = StandardScaler()\n",
    "    X_train = scaler.fit_transform(X_train)\n",
    "    X_val = scaler.transform(X_val)\n",
    "    X_test = scaler.transform(X_test)\n",
    "    \n",
    "    return X_train, X_val, X_test, y_train, y_val, y_test\n",
    "\n",
    "# Load and preprocess data\n",
    "X_train, X_val, X_test, y_train, y_val, y_test = load_data(\n",
    "    'D:\\\\MOOC.fi\\\\Jupyter\\\\EEG\\\\Dataset\\\\chbmit_preprocessed_data.csv'\n",
    ")\n",
    "\n",
    "print(f\"Train: {X_train.shape}, Val: {X_val.shape}, Test: {X_test.shape}\")"
   ]
  },
  {
   "cell_type": "code",
   "execution_count": 3,
   "id": "bd25c284-66ad-4951-941d-25ff330878b2",
   "metadata": {},
   "outputs": [],
   "source": [
    "# Create TensorDatasets\n",
    "train_dataset = TensorDataset(\n",
    "    torch.tensor(X_train, dtype=torch.float32),\n",
    "    torch.tensor(y_train, dtype=torch.float32)\n",
    ")\n",
    "val_dataset = TensorDataset(\n",
    "    torch.tensor(X_val, dtype=torch.float32),\n",
    "    torch.tensor(y_val, dtype=torch.float32)\n",
    ")\n",
    "test_dataset = TensorDataset(\n",
    "    torch.tensor(X_test, dtype=torch.float32),\n",
    "    torch.tensor(y_test, dtype=torch.float32)\n",
    ")\n",
    "\n",
    "# Create DataLoaders\n",
    "batch_size = 4096\n",
    "train_loader = DataLoader(\n",
    "    train_dataset, batch_size=batch_size, shuffle=True,\n",
    "    num_workers=4, pin_memory=True, pin_memory_device=str(device)\n",
    ")\n",
    "val_loader = DataLoader(\n",
    "    val_dataset, batch_size=batch_size,\n",
    "    num_workers=4, pin_memory=True, pin_memory_device=str(device)\n",
    ")\n",
    "test_loader = DataLoader(\n",
    "    test_dataset, batch_size=batch_size,\n",
    "    num_workers=4, pin_memory=True, pin_memory_device=str(device)\n",
    ")"
   ]
  },
  {
   "cell_type": "code",
   "execution_count": 4,
   "id": "931b6a71-e255-4ef5-93ad-1aee227c74f2",
   "metadata": {},
   "outputs": [],
   "source": [
    "class EEGSeizureNet(nn.Module):\n",
    "    def __init__(self, input_dim):\n",
    "        super().__init__()\n",
    "        self.net = nn.Sequential(\n",
    "            nn.Linear(input_dim, 512),\n",
    "            nn.BatchNorm1d(512),\n",
    "            nn.GELU(),\n",
    "            nn.Dropout(0.3),\n",
    "            \n",
    "            nn.Linear(512, 512),\n",
    "            nn.BatchNorm1d(512),\n",
    "            nn.GELU(),\n",
    "            nn.Dropout(0.3),\n",
    "            \n",
    "            nn.Linear(512, 256),\n",
    "            nn.BatchNorm1d(256),\n",
    "            nn.GELU(),\n",
    "            nn.Dropout(0.2),\n",
    "            \n",
    "            nn.Linear(256, 1),\n",
    "            nn.Sigmoid()\n",
    "        )\n",
    "        \n",
    "    def forward(self, x):\n",
    "        return self.net(x)"
   ]
  },
  {
   "cell_type": "code",
   "execution_count": 5,
   "id": "2a2db394-ad8b-4181-93e2-8e004d479d3f",
   "metadata": {},
   "outputs": [],
   "source": [
    "class Trainer:\n",
    "    def __init__(self, model, device, optimizer, criterion):\n",
    "        self.model = model.to(device)\n",
    "        self.device = device\n",
    "        self.optimizer = optimizer\n",
    "        self.criterion = criterion\n",
    "        self.best_roc = 0.0\n",
    "        self.history = {'train_loss': [], 'val_loss': [], \n",
    "                       'train_acc': [], 'val_acc': [], \n",
    "                       'val_roc': []}\n",
    "\n",
    "    def _run_epoch(self, loader, training=True):\n",
    "        self.model.train(training)\n",
    "        loss, correct, total = 0.0, 0, 0\n",
    "        all_probs, all_labels = [], []\n",
    "        \n",
    "        with torch.set_grad_enabled(training):\n",
    "            for inputs, labels in tqdm(loader, desc=\"Training\" if training else \"Validating\"):\n",
    "                inputs = inputs.to(self.device, non_blocking=True)\n",
    "                labels = labels.to(self.device, non_blocking=True).unsqueeze(1)\n",
    "                \n",
    "                if training: self.optimizer.zero_grad()\n",
    "                outputs = self.model(inputs)\n",
    "                batch_loss = self.criterion(outputs, labels)\n",
    "                \n",
    "                if training:\n",
    "                    batch_loss.backward()\n",
    "                    self.optimizer.step()\n",
    "                \n",
    "                loss += batch_loss.item()\n",
    "                preds = (outputs >= 0.5).float()\n",
    "                correct += (preds == labels).sum().item()\n",
    "                total += labels.size(0)\n",
    "                \n",
    "                all_probs.append(outputs.detach().cpu())\n",
    "                all_labels.append(labels.detach().cpu())\n",
    "        \n",
    "        return (loss/len(loader)), (correct/total)*100, \\\n",
    "               torch.cat(all_probs), torch.cat(all_labels)\n",
    "\n",
    "    def train(self, train_loader, val_loader, epochs=50):\n",
    "        for epoch in range(epochs):\n",
    "            train_loss, train_acc, _, _ = self._run_epoch(train_loader)\n",
    "            val_loss, val_acc, val_probs, val_labels = self._run_epoch(val_loader, False)\n",
    "            \n",
    "            # Calculate validation ROC AUC\n",
    "            val_roc = roc_auc_score(val_labels.numpy(), val_probs.numpy())\n",
    "            \n",
    "            # Update history\n",
    "            self.history['train_loss'].append(train_loss)\n",
    "            self.history['val_loss'].append(val_loss)\n",
    "            self.history['train_acc'].append(train_acc)\n",
    "            self.history['val_acc'].append(val_acc)\n",
    "            self.history['val_roc'].append(val_roc)\n",
    "            \n",
    "            # Save best model\n",
    "            if val_roc > self.best_roc:\n",
    "                self.best_roc = val_roc\n",
    "                torch.save(self.model.state_dict(), 'best_model_CNN.pth')\n",
    "\n",
    "            print(f\"Epoch {epoch+1}/{epochs}\")\n",
    "            print(f\"Train Loss: {train_loss:.4f} | Val Loss: {val_loss:.4f}\")\n",
    "            print(f\"Train Acc: {train_acc:.2f}% | Val Acc: {val_acc:.2f}%\")\n",
    "            print(f\"Val ROC AUC: {val_roc:.4f}\")\n",
    "            print(\"-----------------------------------\")\n",
    "\n",
    "            \n",
    "   \n",
    "    def evaluate(self, test_loader):\n",
    "        self.model.load_state_dict(torch.load('best_model.pth'))\n",
    "        _, acc, probs, labels = self._run_epoch(test_loader, False)\n",
    "        roc = roc_auc_score(labels.numpy(), probs.numpy())\n",
    "        \n",
    "        print(\"\\n=== Final Test Performance ===\")\n",
    "        print(f\"Accuracy: {acc:.2f}% | ROC AUC: {roc:.4f}\")\n",
    "        report = classification_report(labels.numpy(), (probs.numpy() >= 0.5).astype(int),\n",
    "                                   target_names=['0', '1'], output_dict=True)\n",
    "    \n",
    "        # Save report as a JSON file\n",
    "        report_path = \"D:\\\\MOOC.fi\\\\Jupyter\\\\EEG\\\\Dataset\\\\Plots\\\\CNN.json\"\n",
    "        with open(report_path, \"w\") as f:\n",
    "            json.dump(report, f, indent=4)\n",
    "\n",
    "        print(f\"Classification report saved to {report_path}\")\n",
    "        \n",
    "        print(classification_report(labels.numpy(), (probs.numpy() >= 0.5).astype(int),\n",
    "              target_names=['0', '1']))\n",
    "        \n",
    "        # Confusion Matrix\n",
    "        plt.figure(figsize=(6, 6))\n",
    "        sns.heatmap(confusion_matrix(labels, probs >= 0.5), \n",
    "                    annot=True, fmt='d', cmap='Blues')\n",
    "        plt.title('Test Set Confusion Matrix')\n",
    "        plt.show()\n",
    "        \n",
    "        # ROC Curve\n",
    "        fpr, tpr, _ = roc_curve(labels, probs)\n",
    "        plt.figure(figsize=(8, 6))\n",
    "        plt.plot(fpr, tpr, label=f'AUC = {roc:.2f}')\n",
    "        plt.plot([0, 1], [0, 1], 'k--')\n",
    "        plt.xlabel('False Positive Rate')\n",
    "        plt.ylabel('True Positive Rate')\n",
    "        plt.title('Test Set ROC Curve')\n",
    "        plt.legend()\n",
    "        plt.show()\n",
    "\n",
    "    def plot_metrics(self):\n",
    "        fig, ax = plt.subplots(1, 2, figsize=(15, 5))\n",
    "        ax[0].plot(self.history['train_loss'], label='Train Loss')\n",
    "        ax[0].plot(self.history['val_loss'], label='Val Loss')\n",
    "        ax[0].set_title('Loss Curve')\n",
    "        ax[0].legend()\n",
    "        \n",
    "        ax[1].plot(self.history['train_acc'], label='Train Accuracy')\n",
    "        ax[1].plot(self.history['val_acc'], label='Val Accuracy')\n",
    "        ax[1].set_title('Accuracy Curve')\n",
    "        ax[1].legend()\n",
    "        \n",
    "        plt.show()\n"
   ]
  },
  {
   "cell_type": "code",
   "execution_count": 6,
   "id": "070b92ee-f9ea-4c7c-8d2f-51fbd13b9f36",
   "metadata": {},
   "outputs": [
    {
     "name": "stderr",
     "output_type": "stream",
     "text": [
      "\n",
      "\n",
      "alidating: 100%|██████████████████████████████████████████████████████████████████████| 82/82 [00:03<00:00, 21.48it/s]"
     ]
    },
    {
     "name": "stdout",
     "output_type": "stream",
     "text": [
      "Epoch 1/100\n",
      "Train Loss: 0.3988 | Val Loss: 0.3661\n",
      "Train Acc: 81.68% | Val Acc: 83.29%\n",
      "Val ROC AUC: 0.9154\n",
      "-----------------------------------\n"
     ]
    },
    {
     "name": "stderr",
     "output_type": "stream",
     "text": [
      "\n",
      "\n",
      "alidating: 100%|██████████████████████████████████████████████████████████████████████| 82/82 [00:03<00:00, 22.53it/s]"
     ]
    },
    {
     "name": "stdout",
     "output_type": "stream",
     "text": [
      "Epoch 2/100\n",
      "Train Loss: 0.3670 | Val Loss: 0.3450\n",
      "Train Acc: 83.45% | Val Acc: 84.48%\n",
      "Val ROC AUC: 0.9246\n",
      "-----------------------------------\n"
     ]
    },
    {
     "name": "stderr",
     "output_type": "stream",
     "text": [
      "\n",
      "\n",
      "alidating: 100%|██████████████████████████████████████████████████████████████████████| 82/82 [00:03<00:00, 22.86it/s]"
     ]
    },
    {
     "name": "stdout",
     "output_type": "stream",
     "text": [
      "Epoch 3/100\n",
      "Train Loss: 0.3531 | Val Loss: 0.3337\n",
      "Train Acc: 84.17% | Val Acc: 85.18%\n",
      "Val ROC AUC: 0.9298\n",
      "-----------------------------------\n"
     ]
    },
    {
     "name": "stderr",
     "output_type": "stream",
     "text": [
      "\n",
      "\n",
      "alidating: 100%|██████████████████████████████████████████████████████████████████████| 82/82 [00:03<00:00, 22.32it/s]"
     ]
    },
    {
     "name": "stdout",
     "output_type": "stream",
     "text": [
      "Epoch 4/100\n",
      "Train Loss: 0.3439 | Val Loss: 0.3248\n",
      "Train Acc: 84.65% | Val Acc: 85.64%\n",
      "Val ROC AUC: 0.9329\n",
      "-----------------------------------\n"
     ]
    },
    {
     "name": "stderr",
     "output_type": "stream",
     "text": [
      "\n",
      "\n",
      "alidating: 100%|██████████████████████████████████████████████████████████████████████| 82/82 [00:03<00:00, 23.03it/s]"
     ]
    },
    {
     "name": "stdout",
     "output_type": "stream",
     "text": [
      "Epoch 5/100\n",
      "Train Loss: 0.3368 | Val Loss: 0.3178\n",
      "Train Acc: 85.03% | Val Acc: 86.04%\n",
      "Val ROC AUC: 0.9361\n",
      "-----------------------------------\n"
     ]
    },
    {
     "name": "stderr",
     "output_type": "stream",
     "text": [
      "\n",
      "\n",
      "alidating: 100%|██████████████████████████████████████████████████████████████████████| 82/82 [00:03<00:00, 22.77it/s]"
     ]
    },
    {
     "name": "stdout",
     "output_type": "stream",
     "text": [
      "Epoch 6/100\n",
      "Train Loss: 0.3310 | Val Loss: 0.3102\n",
      "Train Acc: 85.35% | Val Acc: 86.40%\n",
      "Val ROC AUC: 0.9386\n",
      "-----------------------------------\n"
     ]
    },
    {
     "name": "stderr",
     "output_type": "stream",
     "text": [
      "\n",
      "\n",
      "alidating: 100%|██████████████████████████████████████████████████████████████████████| 82/82 [00:03<00:00, 22.53it/s]"
     ]
    },
    {
     "name": "stdout",
     "output_type": "stream",
     "text": [
      "Epoch 7/100\n",
      "Train Loss: 0.3258 | Val Loss: 0.3062\n",
      "Train Acc: 85.65% | Val Acc: 86.66%\n",
      "Val ROC AUC: 0.9405\n",
      "-----------------------------------\n"
     ]
    },
    {
     "name": "stderr",
     "output_type": "stream",
     "text": [
      "\n",
      "\n",
      "alidating: 100%|██████████████████████████████████████████████████████████████████████| 82/82 [00:03<00:00, 22.99it/s]"
     ]
    },
    {
     "name": "stdout",
     "output_type": "stream",
     "text": [
      "Epoch 8/100\n",
      "Train Loss: 0.3218 | Val Loss: 0.3025\n",
      "Train Acc: 85.86% | Val Acc: 86.86%\n",
      "Val ROC AUC: 0.9421\n",
      "-----------------------------------\n"
     ]
    },
    {
     "name": "stderr",
     "output_type": "stream",
     "text": [
      "\n",
      "\n",
      "alidating: 100%|██████████████████████████████████████████████████████████████████████| 82/82 [00:04<00:00, 19.12it/s]"
     ]
    },
    {
     "name": "stdout",
     "output_type": "stream",
     "text": [
      "Epoch 9/100\n",
      "Train Loss: 0.3186 | Val Loss: 0.2985\n",
      "Train Acc: 86.04% | Val Acc: 87.07%\n",
      "Val ROC AUC: 0.9435\n",
      "-----------------------------------\n"
     ]
    },
    {
     "name": "stderr",
     "output_type": "stream",
     "text": [
      "\n",
      "\n",
      "alidating: 100%|██████████████████████████████████████████████████████████████████████| 82/82 [00:03<00:00, 21.85it/s]"
     ]
    },
    {
     "name": "stdout",
     "output_type": "stream",
     "text": [
      "Epoch 10/100\n",
      "Train Loss: 0.3150 | Val Loss: 0.2939\n",
      "Train Acc: 86.23% | Val Acc: 87.24%\n",
      "Val ROC AUC: 0.9449\n",
      "-----------------------------------\n"
     ]
    },
    {
     "name": "stderr",
     "output_type": "stream",
     "text": [
      "\n",
      "\n",
      "alidating: 100%|██████████████████████████████████████████████████████████████████████| 82/82 [00:03<00:00, 21.51it/s]"
     ]
    },
    {
     "name": "stdout",
     "output_type": "stream",
     "text": [
      "Epoch 11/100\n",
      "Train Loss: 0.3117 | Val Loss: 0.2914\n",
      "Train Acc: 86.42% | Val Acc: 87.43%\n",
      "Val ROC AUC: 0.9461\n",
      "-----------------------------------\n"
     ]
    },
    {
     "name": "stderr",
     "output_type": "stream",
     "text": [
      "\n",
      "\n",
      "alidating: 100%|██████████████████████████████████████████████████████████████████████| 82/82 [00:03<00:00, 21.23it/s]"
     ]
    },
    {
     "name": "stdout",
     "output_type": "stream",
     "text": [
      "Epoch 12/100\n",
      "Train Loss: 0.3095 | Val Loss: 0.2876\n",
      "Train Acc: 86.51% | Val Acc: 87.63%\n",
      "Val ROC AUC: 0.9474\n",
      "-----------------------------------\n"
     ]
    },
    {
     "name": "stderr",
     "output_type": "stream",
     "text": [
      "\n",
      "\n",
      "alidating: 100%|██████████████████████████████████████████████████████████████████████| 82/82 [00:03<00:00, 22.29it/s]"
     ]
    },
    {
     "name": "stdout",
     "output_type": "stream",
     "text": [
      "Epoch 13/100\n",
      "Train Loss: 0.3070 | Val Loss: 0.2854\n",
      "Train Acc: 86.64% | Val Acc: 87.72%\n",
      "Val ROC AUC: 0.9480\n",
      "-----------------------------------\n"
     ]
    },
    {
     "name": "stderr",
     "output_type": "stream",
     "text": [
      "\n",
      "\n",
      "alidating: 100%|██████████████████████████████████████████████████████████████████████| 82/82 [00:03<00:00, 20.90it/s]"
     ]
    },
    {
     "name": "stdout",
     "output_type": "stream",
     "text": [
      "Epoch 14/100\n",
      "Train Loss: 0.3051 | Val Loss: 0.2843\n",
      "Train Acc: 86.76% | Val Acc: 87.77%\n",
      "Val ROC AUC: 0.9485\n",
      "-----------------------------------\n"
     ]
    },
    {
     "name": "stderr",
     "output_type": "stream",
     "text": [
      "\n",
      "\n",
      "alidating: 100%|██████████████████████████████████████████████████████████████████████| 82/82 [00:03<00:00, 21.80it/s]"
     ]
    },
    {
     "name": "stdout",
     "output_type": "stream",
     "text": [
      "Epoch 15/100\n",
      "Train Loss: 0.3032 | Val Loss: 0.2818\n",
      "Train Acc: 86.86% | Val Acc: 87.93%\n",
      "Val ROC AUC: 0.9497\n",
      "-----------------------------------\n"
     ]
    },
    {
     "name": "stderr",
     "output_type": "stream",
     "text": [
      "\n",
      "\n",
      "alidating: 100%|██████████████████████████████████████████████████████████████████████| 82/82 [00:03<00:00, 22.17it/s]"
     ]
    },
    {
     "name": "stdout",
     "output_type": "stream",
     "text": [
      "Epoch 16/100\n",
      "Train Loss: 0.3011 | Val Loss: 0.2795\n",
      "Train Acc: 86.93% | Val Acc: 88.01%\n",
      "Val ROC AUC: 0.9505\n",
      "-----------------------------------\n"
     ]
    },
    {
     "name": "stderr",
     "output_type": "stream",
     "text": [
      "\n",
      "\n",
      "alidating: 100%|██████████████████████████████████████████████████████████████████████| 82/82 [00:03<00:00, 21.78it/s]"
     ]
    },
    {
     "name": "stdout",
     "output_type": "stream",
     "text": [
      "Epoch 17/100\n",
      "Train Loss: 0.3000 | Val Loss: 0.2769\n",
      "Train Acc: 87.06% | Val Acc: 88.12%\n",
      "Val ROC AUC: 0.9513\n",
      "-----------------------------------\n"
     ]
    },
    {
     "name": "stderr",
     "output_type": "stream",
     "text": [
      "\n",
      "\n",
      "alidating: 100%|██████████████████████████████████████████████████████████████████████| 82/82 [00:03<00:00, 21.57it/s]"
     ]
    },
    {
     "name": "stdout",
     "output_type": "stream",
     "text": [
      "Epoch 18/100\n",
      "Train Loss: 0.2980 | Val Loss: 0.2756\n",
      "Train Acc: 87.11% | Val Acc: 88.24%\n",
      "Val ROC AUC: 0.9516\n",
      "-----------------------------------\n"
     ]
    },
    {
     "name": "stderr",
     "output_type": "stream",
     "text": [
      "\n",
      "\n",
      "alidating: 100%|██████████████████████████████████████████████████████████████████████| 82/82 [00:03<00:00, 21.47it/s]"
     ]
    },
    {
     "name": "stdout",
     "output_type": "stream",
     "text": [
      "Epoch 19/100\n",
      "Train Loss: 0.2961 | Val Loss: 0.2743\n",
      "Train Acc: 87.23% | Val Acc: 88.29%\n",
      "Val ROC AUC: 0.9524\n",
      "-----------------------------------\n"
     ]
    },
    {
     "name": "stderr",
     "output_type": "stream",
     "text": [
      "\n",
      "\n",
      "alidating: 100%|██████████████████████████████████████████████████████████████████████| 82/82 [00:03<00:00, 22.03it/s]"
     ]
    },
    {
     "name": "stdout",
     "output_type": "stream",
     "text": [
      "Epoch 20/100\n",
      "Train Loss: 0.2949 | Val Loss: 0.2726\n",
      "Train Acc: 87.26% | Val Acc: 88.40%\n",
      "Val ROC AUC: 0.9527\n",
      "-----------------------------------\n"
     ]
    },
    {
     "name": "stderr",
     "output_type": "stream",
     "text": [
      "\n",
      "\n",
      "alidating: 100%|██████████████████████████████████████████████████████████████████████| 82/82 [00:03<00:00, 21.37it/s]"
     ]
    },
    {
     "name": "stdout",
     "output_type": "stream",
     "text": [
      "Epoch 21/100\n",
      "Train Loss: 0.2935 | Val Loss: 0.2721\n",
      "Train Acc: 87.35% | Val Acc: 88.46%\n",
      "Val ROC AUC: 0.9533\n",
      "-----------------------------------\n"
     ]
    },
    {
     "name": "stderr",
     "output_type": "stream",
     "text": [
      "\n",
      "\n",
      "alidating: 100%|██████████████████████████████████████████████████████████████████████| 82/82 [00:03<00:00, 22.25it/s]"
     ]
    },
    {
     "name": "stdout",
     "output_type": "stream",
     "text": [
      "Epoch 22/100\n",
      "Train Loss: 0.2927 | Val Loss: 0.2698\n",
      "Train Acc: 87.39% | Val Acc: 88.54%\n",
      "Val ROC AUC: 0.9542\n",
      "-----------------------------------\n"
     ]
    },
    {
     "name": "stderr",
     "output_type": "stream",
     "text": [
      "\n",
      "\n",
      "alidating: 100%|██████████████████████████████████████████████████████████████████████| 82/82 [00:04<00:00, 20.24it/s]"
     ]
    },
    {
     "name": "stdout",
     "output_type": "stream",
     "text": [
      "Epoch 23/100\n",
      "Train Loss: 0.2916 | Val Loss: 0.2686\n",
      "Train Acc: 87.46% | Val Acc: 88.60%\n",
      "Val ROC AUC: 0.9545\n",
      "-----------------------------------\n"
     ]
    },
    {
     "name": "stderr",
     "output_type": "stream",
     "text": [
      "\n",
      "\n",
      "alidating: 100%|██████████████████████████████████████████████████████████████████████| 82/82 [00:03<00:00, 22.19it/s]"
     ]
    },
    {
     "name": "stdout",
     "output_type": "stream",
     "text": [
      "Epoch 24/100\n",
      "Train Loss: 0.2902 | Val Loss: 0.2673\n",
      "Train Acc: 87.51% | Val Acc: 88.70%\n",
      "Val ROC AUC: 0.9545\n",
      "-----------------------------------\n"
     ]
    },
    {
     "name": "stderr",
     "output_type": "stream",
     "text": [
      "\n",
      "\n",
      "alidating: 100%|██████████████████████████████████████████████████████████████████████| 82/82 [00:03<00:00, 22.58it/s]"
     ]
    },
    {
     "name": "stdout",
     "output_type": "stream",
     "text": [
      "Epoch 25/100\n",
      "Train Loss: 0.2887 | Val Loss: 0.2661\n",
      "Train Acc: 87.61% | Val Acc: 88.77%\n",
      "Val ROC AUC: 0.9556\n",
      "-----------------------------------\n"
     ]
    },
    {
     "name": "stderr",
     "output_type": "stream",
     "text": [
      "\n",
      "\n",
      "alidating: 100%|██████████████████████████████████████████████████████████████████████| 82/82 [00:03<00:00, 22.11it/s]"
     ]
    },
    {
     "name": "stdout",
     "output_type": "stream",
     "text": [
      "Epoch 26/100\n",
      "Train Loss: 0.2878 | Val Loss: 0.2654\n",
      "Train Acc: 87.64% | Val Acc: 88.82%\n",
      "Val ROC AUC: 0.9556\n",
      "-----------------------------------\n"
     ]
    },
    {
     "name": "stderr",
     "output_type": "stream",
     "text": [
      "\n",
      "\n",
      "alidating: 100%|██████████████████████████████████████████████████████████████████████| 82/82 [00:03<00:00, 21.72it/s]"
     ]
    },
    {
     "name": "stdout",
     "output_type": "stream",
     "text": [
      "Epoch 27/100\n",
      "Train Loss: 0.2867 | Val Loss: 0.2641\n",
      "Train Acc: 87.72% | Val Acc: 88.85%\n",
      "Val ROC AUC: 0.9563\n",
      "-----------------------------------\n"
     ]
    },
    {
     "name": "stderr",
     "output_type": "stream",
     "text": [
      "\n",
      "\n",
      "alidating: 100%|██████████████████████████████████████████████████████████████████████| 82/82 [00:04<00:00, 19.21it/s]"
     ]
    },
    {
     "name": "stdout",
     "output_type": "stream",
     "text": [
      "Epoch 28/100\n",
      "Train Loss: 0.2854 | Val Loss: 0.2629\n",
      "Train Acc: 87.74% | Val Acc: 88.89%\n",
      "Val ROC AUC: 0.9563\n",
      "-----------------------------------\n"
     ]
    },
    {
     "name": "stderr",
     "output_type": "stream",
     "text": [
      "\n",
      "\n",
      "alidating: 100%|██████████████████████████████████████████████████████████████████████| 82/82 [00:03<00:00, 21.16it/s]"
     ]
    },
    {
     "name": "stdout",
     "output_type": "stream",
     "text": [
      "Epoch 29/100\n",
      "Train Loss: 0.2853 | Val Loss: 0.2619\n",
      "Train Acc: 87.78% | Val Acc: 88.94%\n",
      "Val ROC AUC: 0.9569\n",
      "-----------------------------------\n"
     ]
    },
    {
     "name": "stderr",
     "output_type": "stream",
     "text": [
      "\n",
      "\n",
      "alidating: 100%|██████████████████████████████████████████████████████████████████████| 82/82 [00:04<00:00, 20.32it/s]"
     ]
    },
    {
     "name": "stdout",
     "output_type": "stream",
     "text": [
      "Epoch 30/100\n",
      "Train Loss: 0.2838 | Val Loss: 0.2605\n",
      "Train Acc: 87.82% | Val Acc: 88.95%\n",
      "Val ROC AUC: 0.9577\n",
      "-----------------------------------\n"
     ]
    },
    {
     "name": "stderr",
     "output_type": "stream",
     "text": [
      "\n",
      "\n",
      "alidating: 100%|██████████████████████████████████████████████████████████████████████| 82/82 [00:03<00:00, 20.95it/s]"
     ]
    },
    {
     "name": "stdout",
     "output_type": "stream",
     "text": [
      "Epoch 31/100\n",
      "Train Loss: 0.2833 | Val Loss: 0.2598\n",
      "Train Acc: 87.90% | Val Acc: 89.05%\n",
      "Val ROC AUC: 0.9571\n",
      "-----------------------------------\n"
     ]
    },
    {
     "name": "stderr",
     "output_type": "stream",
     "text": [
      "\n",
      "\n",
      "alidating: 100%|██████████████████████████████████████████████████████████████████████| 82/82 [00:03<00:00, 20.96it/s]"
     ]
    },
    {
     "name": "stdout",
     "output_type": "stream",
     "text": [
      "Epoch 32/100\n",
      "Train Loss: 0.2822 | Val Loss: 0.2587\n",
      "Train Acc: 87.91% | Val Acc: 89.11%\n",
      "Val ROC AUC: 0.9579\n",
      "-----------------------------------\n"
     ]
    },
    {
     "name": "stderr",
     "output_type": "stream",
     "text": [
      "\n",
      "\n",
      "alidating: 100%|██████████████████████████████████████████████████████████████████████| 82/82 [00:03<00:00, 21.36it/s]"
     ]
    },
    {
     "name": "stdout",
     "output_type": "stream",
     "text": [
      "Epoch 33/100\n",
      "Train Loss: 0.2817 | Val Loss: 0.2570\n",
      "Train Acc: 87.97% | Val Acc: 89.20%\n",
      "Val ROC AUC: 0.9583\n",
      "-----------------------------------\n"
     ]
    },
    {
     "name": "stderr",
     "output_type": "stream",
     "text": [
      "\n",
      "\n",
      "alidating: 100%|██████████████████████████████████████████████████████████████████████| 82/82 [00:04<00:00, 20.25it/s]"
     ]
    },
    {
     "name": "stdout",
     "output_type": "stream",
     "text": [
      "Epoch 34/100\n",
      "Train Loss: 0.2802 | Val Loss: 0.2571\n",
      "Train Acc: 88.01% | Val Acc: 89.18%\n",
      "Val ROC AUC: 0.9586\n",
      "-----------------------------------\n"
     ]
    },
    {
     "name": "stderr",
     "output_type": "stream",
     "text": [
      "\n",
      "\n",
      "alidating: 100%|██████████████████████████████████████████████████████████████████████| 82/82 [00:03<00:00, 20.66it/s]"
     ]
    },
    {
     "name": "stdout",
     "output_type": "stream",
     "text": [
      "Epoch 35/100\n",
      "Train Loss: 0.2797 | Val Loss: 0.2549\n",
      "Train Acc: 88.05% | Val Acc: 89.30%\n",
      "Val ROC AUC: 0.9591\n",
      "-----------------------------------\n"
     ]
    },
    {
     "name": "stderr",
     "output_type": "stream",
     "text": [
      "\n",
      "\n",
      "alidating: 100%|██████████████████████████████████████████████████████████████████████| 82/82 [00:04<00:00, 19.39it/s]"
     ]
    },
    {
     "name": "stdout",
     "output_type": "stream",
     "text": [
      "Epoch 36/100\n",
      "Train Loss: 0.2788 | Val Loss: 0.2542\n",
      "Train Acc: 88.09% | Val Acc: 89.32%\n",
      "Val ROC AUC: 0.9594\n",
      "-----------------------------------\n"
     ]
    },
    {
     "name": "stderr",
     "output_type": "stream",
     "text": [
      "\n",
      "\n",
      "alidating: 100%|██████████████████████████████████████████████████████████████████████| 82/82 [00:03<00:00, 21.95it/s]"
     ]
    },
    {
     "name": "stdout",
     "output_type": "stream",
     "text": [
      "Epoch 37/100\n",
      "Train Loss: 0.2784 | Val Loss: 0.2537\n",
      "Train Acc: 88.13% | Val Acc: 89.32%\n",
      "Val ROC AUC: 0.9594\n",
      "-----------------------------------\n"
     ]
    },
    {
     "name": "stderr",
     "output_type": "stream",
     "text": [
      "\n",
      "\n",
      "alidating: 100%|██████████████████████████████████████████████████████████████████████| 82/82 [00:04<00:00, 20.39it/s]"
     ]
    },
    {
     "name": "stdout",
     "output_type": "stream",
     "text": [
      "Epoch 38/100\n",
      "Train Loss: 0.2780 | Val Loss: 0.2524\n",
      "Train Acc: 88.17% | Val Acc: 89.43%\n",
      "Val ROC AUC: 0.9595\n",
      "-----------------------------------\n"
     ]
    },
    {
     "name": "stderr",
     "output_type": "stream",
     "text": [
      "\n",
      "\n",
      "alidating: 100%|██████████████████████████████████████████████████████████████████████| 82/82 [00:04<00:00, 19.89it/s]"
     ]
    },
    {
     "name": "stdout",
     "output_type": "stream",
     "text": [
      "Epoch 39/100\n",
      "Train Loss: 0.2772 | Val Loss: 0.2523\n",
      "Train Acc: 88.19% | Val Acc: 89.42%\n",
      "Val ROC AUC: 0.9600\n",
      "-----------------------------------\n"
     ]
    },
    {
     "name": "stderr",
     "output_type": "stream",
     "text": [
      "\n",
      "\n",
      "alidating: 100%|██████████████████████████████████████████████████████████████████████| 82/82 [00:04<00:00, 19.56it/s]"
     ]
    },
    {
     "name": "stdout",
     "output_type": "stream",
     "text": [
      "Epoch 40/100\n",
      "Train Loss: 0.2762 | Val Loss: 0.2522\n",
      "Train Acc: 88.28% | Val Acc: 89.43%\n",
      "Val ROC AUC: 0.9603\n",
      "-----------------------------------\n"
     ]
    },
    {
     "name": "stderr",
     "output_type": "stream",
     "text": [
      "\n",
      "\n",
      "alidating: 100%|██████████████████████████████████████████████████████████████████████| 82/82 [00:03<00:00, 21.41it/s]"
     ]
    },
    {
     "name": "stdout",
     "output_type": "stream",
     "text": [
      "Epoch 41/100\n",
      "Train Loss: 0.2755 | Val Loss: 0.2512\n",
      "Train Acc: 88.26% | Val Acc: 89.44%\n",
      "Val ROC AUC: 0.9607\n",
      "-----------------------------------\n"
     ]
    },
    {
     "name": "stderr",
     "output_type": "stream",
     "text": [
      "\n",
      "\n",
      "alidating: 100%|██████████████████████████████████████████████████████████████████████| 82/82 [00:03<00:00, 20.70it/s]"
     ]
    },
    {
     "name": "stdout",
     "output_type": "stream",
     "text": [
      "Epoch 42/100\n",
      "Train Loss: 0.2750 | Val Loss: 0.2497\n",
      "Train Acc: 88.30% | Val Acc: 89.52%\n",
      "Val ROC AUC: 0.9610\n",
      "-----------------------------------\n"
     ]
    },
    {
     "name": "stderr",
     "output_type": "stream",
     "text": [
      "\n",
      "\n",
      "alidating: 100%|██████████████████████████████████████████████████████████████████████| 82/82 [00:03<00:00, 20.63it/s]"
     ]
    },
    {
     "name": "stdout",
     "output_type": "stream",
     "text": [
      "Epoch 43/100\n",
      "Train Loss: 0.2742 | Val Loss: 0.2497\n",
      "Train Acc: 88.36% | Val Acc: 89.57%\n",
      "Val ROC AUC: 0.9608\n",
      "-----------------------------------\n"
     ]
    },
    {
     "name": "stderr",
     "output_type": "stream",
     "text": [
      "\n",
      "\n",
      "alidating: 100%|██████████████████████████████████████████████████████████████████████| 82/82 [00:03<00:00, 21.86it/s]"
     ]
    },
    {
     "name": "stdout",
     "output_type": "stream",
     "text": [
      "Epoch 44/100\n",
      "Train Loss: 0.2737 | Val Loss: 0.2488\n",
      "Train Acc: 88.38% | Val Acc: 89.62%\n",
      "Val ROC AUC: 0.9612\n",
      "-----------------------------------\n"
     ]
    },
    {
     "name": "stderr",
     "output_type": "stream",
     "text": [
      "\n",
      "\n",
      "alidating: 100%|██████████████████████████████████████████████████████████████████████| 82/82 [00:03<00:00, 21.98it/s]"
     ]
    },
    {
     "name": "stdout",
     "output_type": "stream",
     "text": [
      "Epoch 45/100\n",
      "Train Loss: 0.2730 | Val Loss: 0.2474\n",
      "Train Acc: 88.40% | Val Acc: 89.71%\n",
      "Val ROC AUC: 0.9615\n",
      "-----------------------------------\n"
     ]
    },
    {
     "name": "stderr",
     "output_type": "stream",
     "text": [
      "\n",
      "\n",
      "alidating: 100%|██████████████████████████████████████████████████████████████████████| 82/82 [00:03<00:00, 22.12it/s]"
     ]
    },
    {
     "name": "stdout",
     "output_type": "stream",
     "text": [
      "Epoch 46/100\n",
      "Train Loss: 0.2724 | Val Loss: 0.2471\n",
      "Train Acc: 88.42% | Val Acc: 89.69%\n",
      "Val ROC AUC: 0.9617\n",
      "-----------------------------------\n"
     ]
    },
    {
     "name": "stderr",
     "output_type": "stream",
     "text": [
      "\n",
      "\n",
      "alidating: 100%|██████████████████████████████████████████████████████████████████████| 82/82 [00:03<00:00, 20.77it/s]"
     ]
    },
    {
     "name": "stdout",
     "output_type": "stream",
     "text": [
      "Epoch 47/100\n",
      "Train Loss: 0.2723 | Val Loss: 0.2478\n",
      "Train Acc: 88.45% | Val Acc: 89.69%\n",
      "Val ROC AUC: 0.9618\n",
      "-----------------------------------\n"
     ]
    },
    {
     "name": "stderr",
     "output_type": "stream",
     "text": [
      "\n",
      "\n",
      "alidating: 100%|██████████████████████████████████████████████████████████████████████| 82/82 [00:03<00:00, 22.32it/s]"
     ]
    },
    {
     "name": "stdout",
     "output_type": "stream",
     "text": [
      "Epoch 48/100\n",
      "Train Loss: 0.2713 | Val Loss: 0.2453\n",
      "Train Acc: 88.48% | Val Acc: 89.81%\n",
      "Val ROC AUC: 0.9623\n",
      "-----------------------------------\n"
     ]
    },
    {
     "name": "stderr",
     "output_type": "stream",
     "text": [
      "\n",
      "\n",
      "alidating: 100%|██████████████████████████████████████████████████████████████████████| 82/82 [00:03<00:00, 21.74it/s]"
     ]
    },
    {
     "name": "stdout",
     "output_type": "stream",
     "text": [
      "Epoch 49/100\n",
      "Train Loss: 0.2711 | Val Loss: 0.2451\n",
      "Train Acc: 88.48% | Val Acc: 89.78%\n",
      "Val ROC AUC: 0.9626\n",
      "-----------------------------------\n"
     ]
    },
    {
     "name": "stderr",
     "output_type": "stream",
     "text": [
      "\n",
      "\n",
      "alidating: 100%|██████████████████████████████████████████████████████████████████████| 82/82 [00:03<00:00, 22.11it/s]"
     ]
    },
    {
     "name": "stdout",
     "output_type": "stream",
     "text": [
      "Epoch 50/100\n",
      "Train Loss: 0.2705 | Val Loss: 0.2443\n",
      "Train Acc: 88.52% | Val Acc: 89.87%\n",
      "Val ROC AUC: 0.9627\n",
      "-----------------------------------\n"
     ]
    },
    {
     "name": "stderr",
     "output_type": "stream",
     "text": [
      "\n",
      "\n",
      "alidating: 100%|██████████████████████████████████████████████████████████████████████| 82/82 [00:03<00:00, 22.53it/s]"
     ]
    },
    {
     "name": "stdout",
     "output_type": "stream",
     "text": [
      "Epoch 51/100\n",
      "Train Loss: 0.2702 | Val Loss: 0.2444\n",
      "Train Acc: 88.52% | Val Acc: 89.86%\n",
      "Val ROC AUC: 0.9630\n",
      "-----------------------------------\n"
     ]
    },
    {
     "name": "stderr",
     "output_type": "stream",
     "text": [
      "\n",
      "\n",
      "alidating: 100%|██████████████████████████████████████████████████████████████████████| 82/82 [00:03<00:00, 20.88it/s]"
     ]
    },
    {
     "name": "stdout",
     "output_type": "stream",
     "text": [
      "Epoch 52/100\n",
      "Train Loss: 0.2696 | Val Loss: 0.2450\n",
      "Train Acc: 88.60% | Val Acc: 89.84%\n",
      "Val ROC AUC: 0.9630\n",
      "-----------------------------------\n"
     ]
    },
    {
     "name": "stderr",
     "output_type": "stream",
     "text": [
      "\n",
      "\n",
      "alidating: 100%|██████████████████████████████████████████████████████████████████████| 82/82 [00:03<00:00, 20.52it/s]"
     ]
    },
    {
     "name": "stdout",
     "output_type": "stream",
     "text": [
      "Epoch 53/100\n",
      "Train Loss: 0.2691 | Val Loss: 0.2427\n",
      "Train Acc: 88.61% | Val Acc: 89.96%\n",
      "Val ROC AUC: 0.9629\n",
      "-----------------------------------\n"
     ]
    },
    {
     "name": "stderr",
     "output_type": "stream",
     "text": [
      "\n",
      "\n",
      "alidating: 100%|██████████████████████████████████████████████████████████████████████| 82/82 [00:03<00:00, 21.12it/s]"
     ]
    },
    {
     "name": "stdout",
     "output_type": "stream",
     "text": [
      "Epoch 54/100\n",
      "Train Loss: 0.2683 | Val Loss: 0.2422\n",
      "Train Acc: 88.63% | Val Acc: 89.97%\n",
      "Val ROC AUC: 0.9634\n",
      "-----------------------------------\n"
     ]
    },
    {
     "name": "stderr",
     "output_type": "stream",
     "text": [
      "\n",
      "\n",
      "alidating: 100%|██████████████████████████████████████████████████████████████████████| 82/82 [00:03<00:00, 21.85it/s]"
     ]
    },
    {
     "name": "stdout",
     "output_type": "stream",
     "text": [
      "Epoch 55/100\n",
      "Train Loss: 0.2679 | Val Loss: 0.2420\n",
      "Train Acc: 88.68% | Val Acc: 90.05%\n",
      "Val ROC AUC: 0.9635\n",
      "-----------------------------------\n"
     ]
    },
    {
     "name": "stderr",
     "output_type": "stream",
     "text": [
      "\n",
      "\n",
      "alidating: 100%|██████████████████████████████████████████████████████████████████████| 82/82 [00:03<00:00, 22.13it/s]"
     ]
    },
    {
     "name": "stdout",
     "output_type": "stream",
     "text": [
      "Epoch 56/100\n",
      "Train Loss: 0.2675 | Val Loss: 0.2419\n",
      "Train Acc: 88.70% | Val Acc: 89.99%\n",
      "Val ROC AUC: 0.9636\n",
      "-----------------------------------\n"
     ]
    },
    {
     "name": "stderr",
     "output_type": "stream",
     "text": [
      "\n",
      "\n",
      "alidating: 100%|██████████████████████████████████████████████████████████████████████| 82/82 [00:03<00:00, 22.14it/s]"
     ]
    },
    {
     "name": "stdout",
     "output_type": "stream",
     "text": [
      "Epoch 57/100\n",
      "Train Loss: 0.2670 | Val Loss: 0.2403\n",
      "Train Acc: 88.72% | Val Acc: 90.06%\n",
      "Val ROC AUC: 0.9639\n",
      "-----------------------------------\n"
     ]
    },
    {
     "name": "stderr",
     "output_type": "stream",
     "text": [
      "\n",
      "\n",
      "alidating: 100%|██████████████████████████████████████████████████████████████████████| 82/82 [00:03<00:00, 22.07it/s]"
     ]
    },
    {
     "name": "stdout",
     "output_type": "stream",
     "text": [
      "Epoch 58/100\n",
      "Train Loss: 0.2667 | Val Loss: 0.2399\n",
      "Train Acc: 88.75% | Val Acc: 90.08%\n",
      "Val ROC AUC: 0.9639\n",
      "-----------------------------------\n"
     ]
    },
    {
     "name": "stderr",
     "output_type": "stream",
     "text": [
      "\n",
      "\n",
      "alidating: 100%|██████████████████████████████████████████████████████████████████████| 82/82 [00:03<00:00, 22.14it/s]"
     ]
    },
    {
     "name": "stdout",
     "output_type": "stream",
     "text": [
      "Epoch 59/100\n",
      "Train Loss: 0.2662 | Val Loss: 0.2409\n",
      "Train Acc: 88.74% | Val Acc: 90.06%\n",
      "Val ROC AUC: 0.9641\n",
      "-----------------------------------\n"
     ]
    },
    {
     "name": "stderr",
     "output_type": "stream",
     "text": [
      "\n",
      "\n",
      "alidating: 100%|██████████████████████████████████████████████████████████████████████| 82/82 [00:03<00:00, 20.84it/s]"
     ]
    },
    {
     "name": "stdout",
     "output_type": "stream",
     "text": [
      "Epoch 60/100\n",
      "Train Loss: 0.2660 | Val Loss: 0.2390\n",
      "Train Acc: 88.74% | Val Acc: 90.14%\n",
      "Val ROC AUC: 0.9643\n",
      "-----------------------------------\n"
     ]
    },
    {
     "name": "stderr",
     "output_type": "stream",
     "text": [
      "\n",
      "\n",
      "alidating: 100%|██████████████████████████████████████████████████████████████████████| 82/82 [00:03<00:00, 21.04it/s]"
     ]
    },
    {
     "name": "stdout",
     "output_type": "stream",
     "text": [
      "Epoch 61/100\n",
      "Train Loss: 0.2656 | Val Loss: 0.2403\n",
      "Train Acc: 88.81% | Val Acc: 90.13%\n",
      "Val ROC AUC: 0.9640\n",
      "-----------------------------------\n"
     ]
    },
    {
     "name": "stderr",
     "output_type": "stream",
     "text": [
      "\n",
      "\n",
      "alidating: 100%|██████████████████████████████████████████████████████████████████████| 82/82 [00:03<00:00, 21.54it/s]"
     ]
    },
    {
     "name": "stdout",
     "output_type": "stream",
     "text": [
      "Epoch 62/100\n",
      "Train Loss: 0.2650 | Val Loss: 0.2399\n",
      "Train Acc: 88.84% | Val Acc: 90.08%\n",
      "Val ROC AUC: 0.9644\n",
      "-----------------------------------\n"
     ]
    },
    {
     "name": "stderr",
     "output_type": "stream",
     "text": [
      "\n",
      "\n",
      "alidating: 100%|██████████████████████████████████████████████████████████████████████| 82/82 [00:03<00:00, 21.13it/s]"
     ]
    },
    {
     "name": "stdout",
     "output_type": "stream",
     "text": [
      "Epoch 63/100\n",
      "Train Loss: 0.2644 | Val Loss: 0.2387\n",
      "Train Acc: 88.84% | Val Acc: 90.16%\n",
      "Val ROC AUC: 0.9648\n",
      "-----------------------------------\n"
     ]
    },
    {
     "name": "stderr",
     "output_type": "stream",
     "text": [
      "\n",
      "\n",
      "alidating: 100%|██████████████████████████████████████████████████████████████████████| 82/82 [00:03<00:00, 20.89it/s]"
     ]
    },
    {
     "name": "stdout",
     "output_type": "stream",
     "text": [
      "Epoch 64/100\n",
      "Train Loss: 0.2647 | Val Loss: 0.2368\n",
      "Train Acc: 88.86% | Val Acc: 90.24%\n",
      "Val ROC AUC: 0.9648\n",
      "-----------------------------------\n"
     ]
    },
    {
     "name": "stderr",
     "output_type": "stream",
     "text": [
      "\n",
      "\n",
      "alidating: 100%|██████████████████████████████████████████████████████████████████████| 82/82 [00:03<00:00, 20.87it/s]"
     ]
    },
    {
     "name": "stdout",
     "output_type": "stream",
     "text": [
      "Epoch 65/100\n",
      "Train Loss: 0.2639 | Val Loss: 0.2368\n",
      "Train Acc: 88.88% | Val Acc: 90.26%\n",
      "Val ROC AUC: 0.9650\n",
      "-----------------------------------\n"
     ]
    },
    {
     "name": "stderr",
     "output_type": "stream",
     "text": [
      "\n",
      "\n",
      "alidating: 100%|██████████████████████████████████████████████████████████████████████| 82/82 [00:03<00:00, 21.62it/s]"
     ]
    },
    {
     "name": "stdout",
     "output_type": "stream",
     "text": [
      "Epoch 66/100\n",
      "Train Loss: 0.2635 | Val Loss: 0.2360\n",
      "Train Acc: 88.89% | Val Acc: 90.29%\n",
      "Val ROC AUC: 0.9653\n",
      "-----------------------------------\n"
     ]
    },
    {
     "name": "stderr",
     "output_type": "stream",
     "text": [
      "\n",
      "\n",
      "alidating: 100%|██████████████████████████████████████████████████████████████████████| 82/82 [00:03<00:00, 21.39it/s]"
     ]
    },
    {
     "name": "stdout",
     "output_type": "stream",
     "text": [
      "Epoch 67/100\n",
      "Train Loss: 0.2632 | Val Loss: 0.2365\n",
      "Train Acc: 88.92% | Val Acc: 90.28%\n",
      "Val ROC AUC: 0.9655\n",
      "-----------------------------------\n"
     ]
    },
    {
     "name": "stderr",
     "output_type": "stream",
     "text": [
      "\n",
      "\n",
      "alidating: 100%|██████████████████████████████████████████████████████████████████████| 82/82 [00:04<00:00, 20.32it/s]"
     ]
    },
    {
     "name": "stdout",
     "output_type": "stream",
     "text": [
      "Epoch 68/100\n",
      "Train Loss: 0.2630 | Val Loss: 0.2366\n",
      "Train Acc: 88.91% | Val Acc: 90.27%\n",
      "Val ROC AUC: 0.9655\n",
      "-----------------------------------\n"
     ]
    },
    {
     "name": "stderr",
     "output_type": "stream",
     "text": [
      "\n",
      "\n",
      "alidating: 100%|██████████████████████████████████████████████████████████████████████| 82/82 [00:03<00:00, 20.79it/s]"
     ]
    },
    {
     "name": "stdout",
     "output_type": "stream",
     "text": [
      "Epoch 69/100\n",
      "Train Loss: 0.2625 | Val Loss: 0.2349\n",
      "Train Acc: 88.96% | Val Acc: 90.32%\n",
      "Val ROC AUC: 0.9656\n",
      "-----------------------------------\n"
     ]
    },
    {
     "name": "stderr",
     "output_type": "stream",
     "text": [
      "\n",
      "\n",
      "alidating: 100%|██████████████████████████████████████████████████████████████████████| 82/82 [00:03<00:00, 21.91it/s]"
     ]
    },
    {
     "name": "stdout",
     "output_type": "stream",
     "text": [
      "Epoch 70/100\n",
      "Train Loss: 0.2619 | Val Loss: 0.2346\n",
      "Train Acc: 88.96% | Val Acc: 90.34%\n",
      "Val ROC AUC: 0.9659\n",
      "-----------------------------------\n"
     ]
    },
    {
     "name": "stderr",
     "output_type": "stream",
     "text": [
      "\n",
      "\n",
      "alidating: 100%|██████████████████████████████████████████████████████████████████████| 82/82 [00:03<00:00, 21.58it/s]"
     ]
    },
    {
     "name": "stdout",
     "output_type": "stream",
     "text": [
      "Epoch 71/100\n",
      "Train Loss: 0.2624 | Val Loss: 0.2347\n",
      "Train Acc: 88.97% | Val Acc: 90.36%\n",
      "Val ROC AUC: 0.9656\n",
      "-----------------------------------\n"
     ]
    },
    {
     "name": "stderr",
     "output_type": "stream",
     "text": [
      "\n",
      "\n",
      "alidating: 100%|██████████████████████████████████████████████████████████████████████| 82/82 [00:03<00:00, 21.15it/s]"
     ]
    },
    {
     "name": "stdout",
     "output_type": "stream",
     "text": [
      "Epoch 72/100\n",
      "Train Loss: 0.2617 | Val Loss: 0.2336\n",
      "Train Acc: 88.98% | Val Acc: 90.39%\n",
      "Val ROC AUC: 0.9661\n",
      "-----------------------------------\n"
     ]
    },
    {
     "name": "stderr",
     "output_type": "stream",
     "text": [
      "\n",
      "\n",
      "alidating: 100%|██████████████████████████████████████████████████████████████████████| 82/82 [00:03<00:00, 21.80it/s]"
     ]
    },
    {
     "name": "stdout",
     "output_type": "stream",
     "text": [
      "Epoch 73/100\n",
      "Train Loss: 0.2608 | Val Loss: 0.2347\n",
      "Train Acc: 89.03% | Val Acc: 90.35%\n",
      "Val ROC AUC: 0.9662\n",
      "-----------------------------------\n"
     ]
    },
    {
     "name": "stderr",
     "output_type": "stream",
     "text": [
      "\n",
      "\n",
      "alidating: 100%|██████████████████████████████████████████████████████████████████████| 82/82 [00:04<00:00, 20.21it/s]"
     ]
    },
    {
     "name": "stdout",
     "output_type": "stream",
     "text": [
      "Epoch 74/100\n",
      "Train Loss: 0.2607 | Val Loss: 0.2344\n",
      "Train Acc: 89.04% | Val Acc: 90.40%\n",
      "Val ROC AUC: 0.9658\n",
      "-----------------------------------\n"
     ]
    },
    {
     "name": "stderr",
     "output_type": "stream",
     "text": [
      "\n",
      "\n",
      "alidating: 100%|██████████████████████████████████████████████████████████████████████| 82/82 [00:03<00:00, 21.43it/s]"
     ]
    },
    {
     "name": "stdout",
     "output_type": "stream",
     "text": [
      "Epoch 75/100\n",
      "Train Loss: 0.2606 | Val Loss: 0.2335\n",
      "Train Acc: 89.02% | Val Acc: 90.50%\n",
      "Val ROC AUC: 0.9663\n",
      "-----------------------------------\n"
     ]
    },
    {
     "name": "stderr",
     "output_type": "stream",
     "text": [
      "\n",
      "\n",
      "alidating: 100%|██████████████████████████████████████████████████████████████████████| 82/82 [00:04<00:00, 19.88it/s]"
     ]
    },
    {
     "name": "stdout",
     "output_type": "stream",
     "text": [
      "Epoch 76/100\n",
      "Train Loss: 0.2604 | Val Loss: 0.2332\n",
      "Train Acc: 89.06% | Val Acc: 90.46%\n",
      "Val ROC AUC: 0.9661\n",
      "-----------------------------------\n"
     ]
    },
    {
     "name": "stderr",
     "output_type": "stream",
     "text": [
      "\n",
      "\n",
      "alidating: 100%|██████████████████████████████████████████████████████████████████████| 82/82 [00:03<00:00, 21.71it/s]"
     ]
    },
    {
     "name": "stdout",
     "output_type": "stream",
     "text": [
      "Epoch 77/100\n",
      "Train Loss: 0.2595 | Val Loss: 0.2321\n",
      "Train Acc: 89.07% | Val Acc: 90.52%\n",
      "Val ROC AUC: 0.9665\n",
      "-----------------------------------\n"
     ]
    },
    {
     "name": "stderr",
     "output_type": "stream",
     "text": [
      "\n",
      "\n",
      "alidating: 100%|██████████████████████████████████████████████████████████████████████| 82/82 [00:03<00:00, 22.00it/s]"
     ]
    },
    {
     "name": "stdout",
     "output_type": "stream",
     "text": [
      "Epoch 78/100\n",
      "Train Loss: 0.2594 | Val Loss: 0.2331\n",
      "Train Acc: 89.09% | Val Acc: 90.45%\n",
      "Val ROC AUC: 0.9665\n",
      "-----------------------------------\n"
     ]
    },
    {
     "name": "stderr",
     "output_type": "stream",
     "text": [
      "\n",
      "\n",
      "alidating: 100%|██████████████████████████████████████████████████████████████████████| 82/82 [00:03<00:00, 21.86it/s]"
     ]
    },
    {
     "name": "stdout",
     "output_type": "stream",
     "text": [
      "Epoch 79/100\n",
      "Train Loss: 0.2592 | Val Loss: 0.2319\n",
      "Train Acc: 89.11% | Val Acc: 90.53%\n",
      "Val ROC AUC: 0.9666\n",
      "-----------------------------------\n"
     ]
    },
    {
     "name": "stderr",
     "output_type": "stream",
     "text": [
      "\n",
      "\n",
      "alidating: 100%|██████████████████████████████████████████████████████████████████████| 82/82 [00:03<00:00, 21.76it/s]"
     ]
    },
    {
     "name": "stdout",
     "output_type": "stream",
     "text": [
      "Epoch 80/100\n",
      "Train Loss: 0.2584 | Val Loss: 0.2311\n",
      "Train Acc: 89.12% | Val Acc: 90.55%\n",
      "Val ROC AUC: 0.9667\n",
      "-----------------------------------\n"
     ]
    },
    {
     "name": "stderr",
     "output_type": "stream",
     "text": [
      "\n",
      "\n",
      "alidating: 100%|██████████████████████████████████████████████████████████████████████| 82/82 [00:03<00:00, 21.65it/s]"
     ]
    },
    {
     "name": "stdout",
     "output_type": "stream",
     "text": [
      "Epoch 81/100\n",
      "Train Loss: 0.2591 | Val Loss: 0.2306\n",
      "Train Acc: 89.12% | Val Acc: 90.59%\n",
      "Val ROC AUC: 0.9667\n",
      "-----------------------------------\n"
     ]
    },
    {
     "name": "stderr",
     "output_type": "stream",
     "text": [
      "\n",
      "\n",
      "alidating: 100%|██████████████████████████████████████████████████████████████████████| 82/82 [00:03<00:00, 21.35it/s]"
     ]
    },
    {
     "name": "stdout",
     "output_type": "stream",
     "text": [
      "Epoch 82/100\n",
      "Train Loss: 0.2586 | Val Loss: 0.2320\n",
      "Train Acc: 89.15% | Val Acc: 90.51%\n",
      "Val ROC AUC: 0.9670\n",
      "-----------------------------------\n"
     ]
    },
    {
     "name": "stderr",
     "output_type": "stream",
     "text": [
      "\n",
      "\n",
      "alidating: 100%|██████████████████████████████████████████████████████████████████████| 82/82 [00:03<00:00, 21.65it/s]"
     ]
    },
    {
     "name": "stdout",
     "output_type": "stream",
     "text": [
      "Epoch 83/100\n",
      "Train Loss: 0.2584 | Val Loss: 0.2305\n",
      "Train Acc: 89.14% | Val Acc: 90.57%\n",
      "Val ROC AUC: 0.9671\n",
      "-----------------------------------\n"
     ]
    },
    {
     "name": "stderr",
     "output_type": "stream",
     "text": [
      "\n",
      "\n",
      "alidating: 100%|██████████████████████████████████████████████████████████████████████| 82/82 [00:03<00:00, 21.25it/s]"
     ]
    },
    {
     "name": "stdout",
     "output_type": "stream",
     "text": [
      "Epoch 84/100\n",
      "Train Loss: 0.2580 | Val Loss: 0.2304\n",
      "Train Acc: 89.19% | Val Acc: 90.61%\n",
      "Val ROC AUC: 0.9671\n",
      "-----------------------------------\n"
     ]
    },
    {
     "name": "stderr",
     "output_type": "stream",
     "text": [
      "\n",
      "\n",
      "alidating: 100%|██████████████████████████████████████████████████████████████████████| 82/82 [00:03<00:00, 21.74it/s]"
     ]
    },
    {
     "name": "stdout",
     "output_type": "stream",
     "text": [
      "Epoch 85/100\n",
      "Train Loss: 0.2576 | Val Loss: 0.2298\n",
      "Train Acc: 89.21% | Val Acc: 90.67%\n",
      "Val ROC AUC: 0.9672\n",
      "-----------------------------------\n"
     ]
    },
    {
     "name": "stderr",
     "output_type": "stream",
     "text": [
      "\n",
      "\n",
      "alidating: 100%|██████████████████████████████████████████████████████████████████████| 82/82 [00:03<00:00, 21.60it/s]"
     ]
    },
    {
     "name": "stdout",
     "output_type": "stream",
     "text": [
      "Epoch 86/100\n",
      "Train Loss: 0.2574 | Val Loss: 0.2285\n",
      "Train Acc: 89.19% | Val Acc: 90.64%\n",
      "Val ROC AUC: 0.9676\n",
      "-----------------------------------\n"
     ]
    },
    {
     "name": "stderr",
     "output_type": "stream",
     "text": [
      "\n",
      "\n",
      "alidating: 100%|██████████████████████████████████████████████████████████████████████| 82/82 [00:03<00:00, 20.97it/s]"
     ]
    },
    {
     "name": "stdout",
     "output_type": "stream",
     "text": [
      "Epoch 87/100\n",
      "Train Loss: 0.2568 | Val Loss: 0.2284\n",
      "Train Acc: 89.23% | Val Acc: 90.69%\n",
      "Val ROC AUC: 0.9677\n",
      "-----------------------------------\n"
     ]
    },
    {
     "name": "stderr",
     "output_type": "stream",
     "text": [
      "\n",
      "\n",
      "alidating: 100%|██████████████████████████████████████████████████████████████████████| 82/82 [00:03<00:00, 21.37it/s]"
     ]
    },
    {
     "name": "stdout",
     "output_type": "stream",
     "text": [
      "Epoch 88/100\n",
      "Train Loss: 0.2571 | Val Loss: 0.2288\n",
      "Train Acc: 89.23% | Val Acc: 90.68%\n",
      "Val ROC AUC: 0.9677\n",
      "-----------------------------------\n"
     ]
    },
    {
     "name": "stderr",
     "output_type": "stream",
     "text": [
      "\n",
      "\n",
      "alidating: 100%|██████████████████████████████████████████████████████████████████████| 82/82 [00:03<00:00, 21.22it/s]"
     ]
    },
    {
     "name": "stdout",
     "output_type": "stream",
     "text": [
      "Epoch 89/100\n",
      "Train Loss: 0.2569 | Val Loss: 0.2290\n",
      "Train Acc: 89.23% | Val Acc: 90.73%\n",
      "Val ROC AUC: 0.9672\n",
      "-----------------------------------\n"
     ]
    },
    {
     "name": "stderr",
     "output_type": "stream",
     "text": [
      "\n",
      "\n",
      "alidating: 100%|██████████████████████████████████████████████████████████████████████| 82/82 [00:03<00:00, 21.60it/s]"
     ]
    },
    {
     "name": "stdout",
     "output_type": "stream",
     "text": [
      "Epoch 90/100\n",
      "Train Loss: 0.2560 | Val Loss: 0.2279\n",
      "Train Acc: 89.27% | Val Acc: 90.81%\n",
      "Val ROC AUC: 0.9676\n",
      "-----------------------------------\n"
     ]
    },
    {
     "name": "stderr",
     "output_type": "stream",
     "text": [
      "\n",
      "\n",
      "alidating: 100%|██████████████████████████████████████████████████████████████████████| 82/82 [00:03<00:00, 21.31it/s]"
     ]
    },
    {
     "name": "stdout",
     "output_type": "stream",
     "text": [
      "Epoch 91/100\n",
      "Train Loss: 0.2562 | Val Loss: 0.2272\n",
      "Train Acc: 89.26% | Val Acc: 90.73%\n",
      "Val ROC AUC: 0.9679\n",
      "-----------------------------------\n"
     ]
    },
    {
     "name": "stderr",
     "output_type": "stream",
     "text": [
      "\n",
      "\n",
      "alidating: 100%|██████████████████████████████████████████████████████████████████████| 82/82 [00:03<00:00, 21.74it/s]"
     ]
    },
    {
     "name": "stdout",
     "output_type": "stream",
     "text": [
      "Epoch 92/100\n",
      "Train Loss: 0.2562 | Val Loss: 0.2276\n",
      "Train Acc: 89.27% | Val Acc: 90.79%\n",
      "Val ROC AUC: 0.9677\n",
      "-----------------------------------\n"
     ]
    },
    {
     "name": "stderr",
     "output_type": "stream",
     "text": [
      "\n",
      "\n",
      "alidating: 100%|██████████████████████████████████████████████████████████████████████| 82/82 [00:04<00:00, 19.86it/s]"
     ]
    },
    {
     "name": "stdout",
     "output_type": "stream",
     "text": [
      "Epoch 93/100\n",
      "Train Loss: 0.2554 | Val Loss: 0.2275\n",
      "Train Acc: 89.31% | Val Acc: 90.75%\n",
      "Val ROC AUC: 0.9678\n",
      "-----------------------------------\n"
     ]
    },
    {
     "name": "stderr",
     "output_type": "stream",
     "text": [
      "\n",
      "\n",
      "alidating: 100%|██████████████████████████████████████████████████████████████████████| 82/82 [00:03<00:00, 21.26it/s]"
     ]
    },
    {
     "name": "stdout",
     "output_type": "stream",
     "text": [
      "Epoch 94/100\n",
      "Train Loss: 0.2556 | Val Loss: 0.2266\n",
      "Train Acc: 89.28% | Val Acc: 90.73%\n",
      "Val ROC AUC: 0.9681\n",
      "-----------------------------------\n"
     ]
    },
    {
     "name": "stderr",
     "output_type": "stream",
     "text": [
      "\n",
      "\n",
      "alidating: 100%|██████████████████████████████████████████████████████████████████████| 82/82 [00:04<00:00, 20.16it/s]"
     ]
    },
    {
     "name": "stdout",
     "output_type": "stream",
     "text": [
      "Epoch 95/100\n",
      "Train Loss: 0.2551 | Val Loss: 0.2275\n",
      "Train Acc: 89.31% | Val Acc: 90.74%\n",
      "Val ROC AUC: 0.9680\n",
      "-----------------------------------\n"
     ]
    },
    {
     "name": "stderr",
     "output_type": "stream",
     "text": [
      "\n",
      "\n",
      "alidating: 100%|██████████████████████████████████████████████████████████████████████| 82/82 [00:03<00:00, 21.40it/s]"
     ]
    },
    {
     "name": "stdout",
     "output_type": "stream",
     "text": [
      "Epoch 96/100\n",
      "Train Loss: 0.2551 | Val Loss: 0.2263\n",
      "Train Acc: 89.32% | Val Acc: 90.83%\n",
      "Val ROC AUC: 0.9677\n",
      "-----------------------------------\n"
     ]
    },
    {
     "name": "stderr",
     "output_type": "stream",
     "text": [
      "\n",
      "\n",
      "alidating: 100%|██████████████████████████████████████████████████████████████████████| 82/82 [00:03<00:00, 21.64it/s]"
     ]
    },
    {
     "name": "stdout",
     "output_type": "stream",
     "text": [
      "Epoch 97/100\n",
      "Train Loss: 0.2549 | Val Loss: 0.2254\n",
      "Train Acc: 89.33% | Val Acc: 90.86%\n",
      "Val ROC AUC: 0.9682\n",
      "-----------------------------------\n"
     ]
    },
    {
     "name": "stderr",
     "output_type": "stream",
     "text": [
      "\n",
      "\n",
      "alidating: 100%|██████████████████████████████████████████████████████████████████████| 82/82 [00:03<00:00, 21.97it/s]"
     ]
    },
    {
     "name": "stdout",
     "output_type": "stream",
     "text": [
      "Epoch 98/100\n",
      "Train Loss: 0.2547 | Val Loss: 0.2256\n",
      "Train Acc: 89.32% | Val Acc: 90.85%\n",
      "Val ROC AUC: 0.9685\n",
      "-----------------------------------\n"
     ]
    },
    {
     "name": "stderr",
     "output_type": "stream",
     "text": [
      "\n",
      "\n",
      "alidating: 100%|██████████████████████████████████████████████████████████████████████| 82/82 [00:03<00:00, 21.24it/s]"
     ]
    },
    {
     "name": "stdout",
     "output_type": "stream",
     "text": [
      "Epoch 99/100\n",
      "Train Loss: 0.2542 | Val Loss: 0.2253\n",
      "Train Acc: 89.38% | Val Acc: 90.89%\n",
      "Val ROC AUC: 0.9684\n",
      "-----------------------------------\n"
     ]
    },
    {
     "name": "stderr",
     "output_type": "stream",
     "text": [
      "\n",
      "Validating: 100%|██████████████████████████████████████████████████████████████████████| 82/82 [00:03<00:00, 21.79it/s]"
     ]
    },
    {
     "name": "stdout",
     "output_type": "stream",
     "text": [
      "Epoch 100/100\n",
      "Train Loss: 0.2543 | Val Loss: 0.2261\n",
      "Train Acc: 89.39% | Val Acc: 90.84%\n",
      "Val ROC AUC: 0.9683\n",
      "-----------------------------------\n"
     ]
    },
    {
     "name": "stderr",
     "output_type": "stream",
     "text": [
      "\n"
     ]
    }
   ],
   "source": [
    "# Initialize model components\n",
    "model = EEGSeizureNet(input_dim=X_train.shape[1])\n",
    "optimizer = optim.AdamW(model.parameters(), lr=0.001, weight_decay=1e-5)\n",
    "criterion = nn.BCELoss()\n",
    "\n",
    "# Train model\n",
    "trainer = Trainer(model, device, optimizer, criterion)\n",
    "trainer.train(train_loader, val_loader, epochs=100)"
   ]
  },
  {
   "cell_type": "code",
   "execution_count": 9,
   "id": "12ef07a2-c93f-40b4-8ae8-eb19397b9d6c",
   "metadata": {},
   "outputs": [
    {
     "name": "stderr",
     "output_type": "stream",
     "text": [
      "\n",
      "alidating: 100%|████████████████████████████████████████████████████████████████████| 103/103 [00:04<00:00, 24.47it/s]"
     ]
    },
    {
     "name": "stdout",
     "output_type": "stream",
     "text": [
      "\n",
      "=== Final Test Performance ===\n",
      "Accuracy: 90.85% | ROC AUC: 0.9684\n",
      "Classification report saved to D:\\MOOC.fi\\Jupyter\\EEG\\Dataset\\Plots\\CNN.json\n",
      "              precision    recall  f1-score   support\n",
      "\n",
      "           0       0.87      0.95      0.91    209715\n",
      "           1       0.95      0.86      0.90    209715\n",
      "\n",
      "    accuracy                           0.91    419430\n",
      "   macro avg       0.91      0.91      0.91    419430\n",
      "weighted avg       0.91      0.91      0.91    419430\n",
      "\n"
     ]
    },
    {
     "data": {
      "image/png": "[encoded data removed]",
      "text/plain": [
       "<Figure size 600x600 with 2 Axes>"
      ]
     },
     "metadata": {},
     "output_type": "display_data"
    },
    {
     "data": {
      "image/png": "[encoded data removed]",
      "text/plain": [
       "<Figure size 800x600 with 1 Axes>"
      ]
     },
     "metadata": {},
     "output_type": "display_data"
    }
   ],
   "source": [
    "import json\n",
    "trainer.evaluate(test_loader)"
   ]
  },
  {
   "cell_type": "code",
   "execution_count": 10,
   "id": "d1d64cc8-bd77-4639-890d-ec19c8120f10",
   "metadata": {},
   "outputs": [
    {
     "data": {
      "image/png": "[encoded data removed]",
      "text/plain": [
       "<Figure size 1500x500 with 2 Axes>"
      ]
     },
     "metadata": {},
     "output_type": "display_data"
    }
   ],
   "source": [
    "trainer.plot_metrics()"
   ]
  },
  {
   "cell_type": "code",
   "execution_count": null,
   "id": "db0d9542-1ec4-4e70-ac19-a5f45ecf236b",
   "metadata": {},
   "outputs": [],
   "source": []
  }
 ],
 "metadata": {
  "kernelspec": {
   "display_name": "Python 3 (ipykernel)",
   "language": "python",
   "name": "python3"
  },
  "language_info": {
   "codemirror_mode": {
    "name": "ipython",
    "version": 3
   },
   "file_extension": ".py",
   "mimetype": "text/x-python",
   "name": "python",
   "nbconvert_exporter": "python",
   "pygments_lexer": "ipython3",
   "version": "3.12.3"
  }
 },
 "nbformat": 4,
 "nbformat_minor": 5
}
